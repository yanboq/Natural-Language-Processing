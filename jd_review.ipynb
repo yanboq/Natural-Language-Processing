{
 "cells": [
  {
   "cell_type": "markdown",
   "metadata": {},
   "source": [
    "##### encoding=utf-8\n",
    "import jieba\n",
    "import jieba.analyse\n",
    "import pandas as pd\n",
    "import numpy as np\n",
    "import gensim\n",
    "import pickle\n",
    "from gensim import models\n",
    "from sklearn.cluster import KMeans\n",
    "from sklearn.feature_extraction.text import CountVectorizer\n",
    "from gensim.corpora import Dictionary\n",
    "from gensim.models.lsimodel import LsiModel\n",
    "from gensim.models.ldamodel import LdaModel\n",
    "from gensim.models.tfidfmodel import TfidfModel"
   ]
  },
  {
   "cell_type": "code",
   "execution_count": 4,
   "metadata": {
    "collapsed": true
   },
   "outputs": [],
   "source": [
    "content = open('jd_reviews.txt','rb').read()"
   ]
  },
  {
   "cell_type": "code",
   "execution_count": 5,
   "metadata": {},
   "outputs": [
    {
     "name": "stderr",
     "output_type": "stream",
     "text": [
      "Building prefix dict from the default dictionary ...\n",
      "Loading model from cache C:\\Users\\Yanbo\\AppData\\Local\\Temp\\jieba.cache\n",
      "Loading model cost 1.108 seconds.\n",
      "Prefix dict has been built succesfully.\n"
     ]
    },
    {
     "data": {
      "text/html": [
       "<div>\n",
       "<style>\n",
       "    .dataframe thead tr:only-child th {\n",
       "        text-align: right;\n",
       "    }\n",
       "\n",
       "    .dataframe thead th {\n",
       "        text-align: left;\n",
       "    }\n",
       "\n",
       "    .dataframe tbody tr th {\n",
       "        vertical-align: top;\n",
       "    }\n",
       "</style>\n",
       "<table border=\"1\" class=\"dataframe\">\n",
       "  <thead>\n",
       "    <tr style=\"text-align: right;\">\n",
       "      <th></th>\n",
       "      <th>word</th>\n",
       "      <th>rank</th>\n",
       "    </tr>\n",
       "  </thead>\n",
       "  <tbody>\n",
       "    <tr>\n",
       "      <th>0</th>\n",
       "      <td>不错</td>\n",
       "      <td>0.358839</td>\n",
       "    </tr>\n",
       "    <tr>\n",
       "      <th>1</th>\n",
       "      <td>鼠标</td>\n",
       "      <td>0.197843</td>\n",
       "    </tr>\n",
       "    <tr>\n",
       "      <th>2</th>\n",
       "      <td>手感</td>\n",
       "      <td>0.162806</td>\n",
       "    </tr>\n",
       "    <tr>\n",
       "      <th>3</th>\n",
       "      <td>罗技</td>\n",
       "      <td>0.130808</td>\n",
       "    </tr>\n",
       "    <tr>\n",
       "      <th>4</th>\n",
       "      <td>键盘</td>\n",
       "      <td>0.125591</td>\n",
       "    </tr>\n",
       "    <tr>\n",
       "      <th>5</th>\n",
       "      <td>好用</td>\n",
       "      <td>0.093429</td>\n",
       "    </tr>\n",
       "    <tr>\n",
       "      <th>6</th>\n",
       "      <td>hellip</td>\n",
       "      <td>0.089139</td>\n",
       "    </tr>\n",
       "    <tr>\n",
       "      <th>7</th>\n",
       "      <td>京东</td>\n",
       "      <td>0.079309</td>\n",
       "    </tr>\n",
       "    <tr>\n",
       "      <th>8</th>\n",
       "      <td>好好</td>\n",
       "      <td>0.072409</td>\n",
       "    </tr>\n",
       "    <tr>\n",
       "      <th>9</th>\n",
       "      <td>非常</td>\n",
       "      <td>0.067122</td>\n",
       "    </tr>\n",
       "    <tr>\n",
       "      <th>10</th>\n",
       "      <td>东西</td>\n",
       "      <td>0.058696</td>\n",
       "    </tr>\n",
       "    <tr>\n",
       "      <th>11</th>\n",
       "      <td>可以</td>\n",
       "      <td>0.053596</td>\n",
       "    </tr>\n",
       "    <tr>\n",
       "      <th>12</th>\n",
       "      <td>感觉</td>\n",
       "      <td>0.050981</td>\n",
       "    </tr>\n",
       "    <tr>\n",
       "      <th>13</th>\n",
       "      <td>质量</td>\n",
       "      <td>0.044658</td>\n",
       "    </tr>\n",
       "    <tr>\n",
       "      <th>14</th>\n",
       "      <td>按键</td>\n",
       "      <td>0.042516</td>\n",
       "    </tr>\n",
       "    <tr>\n",
       "      <th>15</th>\n",
       "      <td>喜欢</td>\n",
       "      <td>0.039633</td>\n",
       "    </tr>\n",
       "    <tr>\n",
       "      <th>16</th>\n",
       "      <td>有点</td>\n",
       "      <td>0.039581</td>\n",
       "    </tr>\n",
       "    <tr>\n",
       "      <th>17</th>\n",
       "      <td>就是</td>\n",
       "      <td>0.039184</td>\n",
       "    </tr>\n",
       "    <tr>\n",
       "      <th>18</th>\n",
       "      <td>好评</td>\n",
       "      <td>0.038286</td>\n",
       "    </tr>\n",
       "    <tr>\n",
       "      <th>19</th>\n",
       "      <td>满意</td>\n",
       "      <td>0.037973</td>\n",
       "    </tr>\n",
       "  </tbody>\n",
       "</table>\n",
       "</div>"
      ],
      "text/plain": [
       "      word      rank\n",
       "0       不错  0.358839\n",
       "1       鼠标  0.197843\n",
       "2       手感  0.162806\n",
       "3       罗技  0.130808\n",
       "4       键盘  0.125591\n",
       "5       好用  0.093429\n",
       "6   hellip  0.089139\n",
       "7       京东  0.079309\n",
       "8       好好  0.072409\n",
       "9       非常  0.067122\n",
       "10      东西  0.058696\n",
       "11      可以  0.053596\n",
       "12      感觉  0.050981\n",
       "13      质量  0.044658\n",
       "14      按键  0.042516\n",
       "15      喜欢  0.039633\n",
       "16      有点  0.039581\n",
       "17      就是  0.039184\n",
       "18      好评  0.038286\n",
       "19      满意  0.037973"
      ]
     },
     "execution_count": 5,
     "metadata": {},
     "output_type": "execute_result"
    }
   ],
   "source": [
    "tags = jieba.analyse.extract_tags(content, topK=20, withWeight=True)\n",
    "word_rank = pd.DataFrame(tags,columns=['word','rank'])\n",
    "word_rank"
   ]
  },
  {
   "cell_type": "code",
   "execution_count": 6,
   "metadata": {
    "collapsed": true
   },
   "outputs": [],
   "source": [
    "sentences = []\n",
    "with open('jd_reviews.txt', 'rb') as f:\n",
    "    sentences += [list(jieba.cut(line.strip())) for line in f]"
   ]
  },
  {
   "cell_type": "code",
   "execution_count": 7,
   "metadata": {},
   "outputs": [
    {
     "name": "stdout",
     "output_type": "stream",
     "text": [
      "[['1'], ['1'], ['1'], ['1'], ['1'], ['1'], ['1'], ['1'], ['1'], ['1'], ['1'], ['1'], ['1'], ['1'], ['1'], ['1'], ['1'], ['1'], ['1'], ['1'], ['1'], ['1'], ['1'], ['1'], ['1'], ['1'], ['1'], ['1'], ['1'], ['1'], ['1'], ['1'], ['1'], ['1'], ['1'], ['1'], ['1'], ['1'], ['1'], ['1'], ['1'], ['1'], ['1'], ['1'], ['1'], ['1'], ['1'], ['1'], ['1'], ['1'], ['1'], ['1'], ['1'], ['1'], ['1'], ['1'], ['1'], ['1'], ['1'], ['1'], ['1'], ['1'], ['1'], ['1'], ['1'], ['1'], ['1'], ['1'], ['1'], ['1'], ['1'], ['1'], ['1'], ['1'], ['1'], ['1'], ['1'], ['1'], ['1'], ['1']]\n"
     ]
    }
   ],
   "source": [
    "print (sentences [20:100])"
   ]
  },
  {
   "cell_type": "code",
   "execution_count": 8,
   "metadata": {
    "collapsed": true
   },
   "outputs": [],
   "source": [
    "model = gensim.models.Word2Vec(sentences, \n",
    "                               size=100, \n",
    "                               window=5, \n",
    "                               min_count=5, \n",
    "                               workers=4)"
   ]
  },
  {
   "cell_type": "code",
   "execution_count": 9,
   "metadata": {},
   "outputs": [
    {
     "name": "stdout",
     "output_type": "stream",
     "text": [
      "手柄 0.6392351388931274\n",
      "接收器 0.4924774169921875\n",
      "鼠 0.47291460633277893\n",
      "之前 0.4715437889099121\n",
      "有线 0.4701094627380371\n",
      "键鼠 0.4606958031654358\n",
      "信号 0.4604909420013428\n",
      "小键盘 0.4448607861995697\n",
      "感觉 0.44323351979255676\n",
      "原来 0.4418410062789917\n"
     ]
    }
   ],
   "source": [
    "for k, s in model.most_similar(positive=[\"鼠标\"]):\n",
    "    print (k, s)"
   ]
  },
  {
   "cell_type": "code",
   "execution_count": 10,
   "metadata": {},
   "outputs": [
    {
     "name": "stdout",
     "output_type": "stream",
     "text": [
      "给定“女生”与“鼠标”，“男生”和“微动”有类似的关系\n"
     ]
    }
   ],
   "source": [
    "def find_relationship(a, b, c):\n",
    "    d, _ = model.most_similar(positive=[c, b], negative=[a])[0]\n",
    "    str = (\"给定“{}”与“{}”，“{}”和“{}”有类似的关系\").format(a, b, c, d)\n",
    "    print (str)\n",
    "\n",
    "find_relationship(\"女生\", \"鼠标\", \"男生\")"
   ]
  },
  {
   "cell_type": "code",
   "execution_count": 11,
   "metadata": {
    "collapsed": true
   },
   "outputs": [],
   "source": [
    "def save(data, file):\n",
    "    \n",
    "    fo = open(file, 'wb')\n",
    "    pickle.dump(data, fo, protocol=2)\n",
    "    fo.close()"
   ]
  },
  {
   "cell_type": "code",
   "execution_count": 12,
   "metadata": {
    "collapsed": true
   },
   "outputs": [],
   "source": [
    "dataset_name = 'jd_logi'\n",
    "dictionary = Dictionary(sentences)\n",
    "save(dictionary, '%s_dict.pkl' % dataset_name)\n",
    "corpus = [dictionary.doc2bow(text) for text in sentences]"
   ]
  },
  {
   "cell_type": "code",
   "execution_count": 13,
   "metadata": {
    "collapsed": true
   },
   "outputs": [],
   "source": [
    "# id2word = gensim.corpora.Dictionary.load_from_text('wiki_en_wordids.txt')"
   ]
  },
  {
   "cell_type": "code",
   "execution_count": 14,
   "metadata": {},
   "outputs": [
    {
     "data": {
      "text/plain": [
       "[(0,\n",
       "  '0.098*\"。\" + 0.077*\"，\" + 0.062*\"好\" + 0.055*\"很\" + 0.046*\"的\" + 0.029*\"鼠标\" + 0.023*\"键盘\" + 0.019*\"用\" + 0.015*\"了\" + 0.013*\"手感\"'),\n",
       " (1,\n",
       "  '0.142*\"，\" + 0.046*\"不错\" + 0.044*\"鼠标\" + 0.043*\"的\" + 0.040*\"还\" + 0.034*\"很\" + 0.032*\"用\" + 0.031*\"。\" + 0.020*\"好\" + 0.019*\"可以\"'),\n",
       " (2,\n",
       "  '0.178*\" \" + 0.147*\"！\" + 0.057*\"很\" + 0.042*\"好\" + 0.035*\"不错\" + 0.026*\";\" + 0.025*\"&\" + 0.024*\"的\" + 0.023*\"非常\" + 0.021*\"hellip\"'),\n",
       " (3,\n",
       "  '0.146*\"，\" + 0.026*\"快\" + 0.023*\"速度\" + 0.020*\"?\" + 0.020*\"不错\" + 0.019*\"鼠标\" + 0.018*\"~\" + 0.017*\"送货\" + 0.017*\"值得\" + 0.016*\"的\"'),\n",
       " (4,\n",
       "  '0.094*\"，\" + 0.049*\"的\" + 0.041*\"了\" + 0.024*\"鼠标\" + 0.019*\"是\" + 0.016*\"我\" + 0.015*\"就\" + 0.015*\"不\" + 0.011*\"买\" + 0.010*\"用\"')]"
      ]
     },
     "execution_count": 14,
     "metadata": {},
     "output_type": "execute_result"
    }
   ],
   "source": [
    "lda = gensim.models.ldamodel.LdaModel(corpus=corpus, id2word=dictionary, num_topics=5, update_every=1, chunksize=10000, passes=1)\n",
    "lda.print_topics(5)"
   ]
  }
 ],
 "metadata": {
  "kernelspec": {
   "display_name": "Python 3",
   "language": "python",
   "name": "python3"
  },
  "language_info": {
   "codemirror_mode": {
    "name": "ipython",
    "version": 3
   },
   "file_extension": ".py",
   "mimetype": "text/x-python",
   "name": "python",
   "nbconvert_exporter": "python",
   "pygments_lexer": "ipython3",
   "version": "3.6.1"
  }
 },
 "nbformat": 4,
 "nbformat_minor": 2
}
