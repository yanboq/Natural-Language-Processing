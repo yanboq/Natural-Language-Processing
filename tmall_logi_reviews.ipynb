{
 "cells": [
  {
   "cell_type": "code",
   "execution_count": 23,
   "metadata": {
    "collapsed": true
   },
   "outputs": [],
   "source": [
    "from pandas import Series, DataFrame\n",
    "from snownlp import SnowNLP\n",
    "import numpy as np\n",
    "import jieba\n",
    "import jieba.analyse\n",
    "import pprint"
   ]
  },
  {
   "cell_type": "code",
   "execution_count": 24,
   "metadata": {
    "collapsed": true
   },
   "outputs": [],
   "source": [
    "import pandas as pd\n",
    "df = pd.read_excel('C:/Users/Robin/Google Drive/Code/Data/tmall_logi_reviews.xlsx', encoding='utf-8')\n",
    "df2 = pd.read_excel('C:/Users/Robin/Google Drive/Code/Data/tmall_logi_products.xlsx')"
   ]
  },
  {
   "cell_type": "code",
   "execution_count": 25,
   "metadata": {},
   "outputs": [
    {
     "data": {
      "text/html": [
       "<div>\n",
       "<style>\n",
       "    .dataframe thead tr:only-child th {\n",
       "        text-align: right;\n",
       "    }\n",
       "\n",
       "    .dataframe thead th {\n",
       "        text-align: left;\n",
       "    }\n",
       "\n",
       "    .dataframe tbody tr th {\n",
       "        vertical-align: top;\n",
       "    }\n",
       "</style>\n",
       "<table border=\"1\" class=\"dataframe\">\n",
       "  <thead>\n",
       "    <tr style=\"text-align: right;\">\n",
       "      <th></th>\n",
       "      <th>爬取时间(__time)</th>\n",
       "      <th>爬取链接(__url)</th>\n",
       "      <th>product_id</th>\n",
       "      <th>Publish Time</th>\n",
       "      <th>content</th>\n",
       "      <th>评价者(author_name)</th>\n",
       "      <th>评价者会员等级(author_level)</th>\n",
       "      <th>product_sku</th>\n",
       "      <th>确认收货时间(trade_end_time)</th>\n",
       "      <th>卖家回复内容(seller_reply_content)</th>\n",
       "      <th>append_time</th>\n",
       "      <th>append_interval</th>\n",
       "      <th>append_content</th>\n",
       "      <th>追加评价卖家回复内容(append_seller_reply_content)</th>\n",
       "    </tr>\n",
       "  </thead>\n",
       "  <tbody>\n",
       "    <tr>\n",
       "      <th>0</th>\n",
       "      <td>2017-06-27 09:13:37</td>\n",
       "      <td>https://rate.tmall.com/list_detail_rate.htm?it...</td>\n",
       "      <td>521301949400</td>\n",
       "      <td>2015-08-19 10:12:40</td>\n",
       "      <td>是正品，罗技的东西还是不错的，可惜这么贵的只有一年保修。功能强大，可以用蓝牙连接，可以操作3...</td>\n",
       "      <td>t***7</td>\n",
       "      <td>天猫T3达人</td>\n",
       "      <td>套餐类型:套餐一;颜色分类:MX Anywhere2</td>\n",
       "      <td>2015-08-19 10:07:18</td>\n",
       "      <td>无</td>\n",
       "      <td>NaT</td>\n",
       "      <td>无</td>\n",
       "      <td>NaN</td>\n",
       "      <td>无</td>\n",
       "    </tr>\n",
       "    <tr>\n",
       "      <th>1</th>\n",
       "      <td>2017-06-27 09:13:37</td>\n",
       "      <td>https://rate.tmall.com/list_detail_rate.htm?it...</td>\n",
       "      <td>521301949400</td>\n",
       "      <td>2015-08-21 06:19:15</td>\n",
       "      <td>鼠标用起来很好，是正品，可以连接多个键盘鼠标，节省了一个端口，手感很好，比第一代好了很多，拿...</td>\n",
       "      <td>海***5</td>\n",
       "      <td>天猫T2达人</td>\n",
       "      <td>套餐类型:套餐一;颜色分类:MX Anywhere2</td>\n",
       "      <td>2015-08-21 06:14:09</td>\n",
       "      <td>无</td>\n",
       "      <td>NaT</td>\n",
       "      <td>无</td>\n",
       "      <td>NaN</td>\n",
       "      <td>无</td>\n",
       "    </tr>\n",
       "    <tr>\n",
       "      <th>2</th>\n",
       "      <td>2017-06-27 09:13:37</td>\n",
       "      <td>https://rate.tmall.com/list_detail_rate.htm?it...</td>\n",
       "      <td>521301949400</td>\n",
       "      <td>2015-08-22 06:47:05</td>\n",
       "      <td>很满意地一次购物，物流快，质量好，下次还会在来的</td>\n",
       "      <td>乡***街</td>\n",
       "      <td>天猫T4达人</td>\n",
       "      <td>套餐类型:官方标配;颜色分类:MX Anywhere2</td>\n",
       "      <td>2015-08-22 06:46:23</td>\n",
       "      <td>无</td>\n",
       "      <td>NaT</td>\n",
       "      <td>无</td>\n",
       "      <td>NaN</td>\n",
       "      <td>无</td>\n",
       "    </tr>\n",
       "  </tbody>\n",
       "</table>\n",
       "</div>"
      ],
      "text/plain": [
       "         爬取时间(__time)                                        爬取链接(__url)  \\\n",
       "0 2017-06-27 09:13:37  https://rate.tmall.com/list_detail_rate.htm?it...   \n",
       "1 2017-06-27 09:13:37  https://rate.tmall.com/list_detail_rate.htm?it...   \n",
       "2 2017-06-27 09:13:37  https://rate.tmall.com/list_detail_rate.htm?it...   \n",
       "\n",
       "     product_id        Publish Time  \\\n",
       "0  521301949400 2015-08-19 10:12:40   \n",
       "1  521301949400 2015-08-21 06:19:15   \n",
       "2  521301949400 2015-08-22 06:47:05   \n",
       "\n",
       "                                             content 评价者(author_name)  \\\n",
       "0  是正品，罗技的东西还是不错的，可惜这么贵的只有一年保修。功能强大，可以用蓝牙连接，可以操作3...            t***7   \n",
       "1  鼠标用起来很好，是正品，可以连接多个键盘鼠标，节省了一个端口，手感很好，比第一代好了很多，拿...            海***5   \n",
       "2                           很满意地一次购物，物流快，质量好，下次还会在来的            乡***街   \n",
       "\n",
       "  评价者会员等级(author_level)                  product_sku 确认收货时间(trade_end_time)  \\\n",
       "0                天猫T3达人   套餐类型:套餐一;颜色分类:MX Anywhere2    2015-08-19 10:07:18   \n",
       "1                天猫T2达人   套餐类型:套餐一;颜色分类:MX Anywhere2    2015-08-21 06:14:09   \n",
       "2                天猫T4达人  套餐类型:官方标配;颜色分类:MX Anywhere2    2015-08-22 06:46:23   \n",
       "\n",
       "  卖家回复内容(seller_reply_content) append_time append_interval append_content  \\\n",
       "0                            无         NaT               无            NaN   \n",
       "1                            无         NaT               无            NaN   \n",
       "2                            无         NaT               无            NaN   \n",
       "\n",
       "  追加评价卖家回复内容(append_seller_reply_content)  \n",
       "0                                       无  \n",
       "1                                       无  \n",
       "2                                       无  "
      ]
     },
     "execution_count": 25,
     "metadata": {},
     "output_type": "execute_result"
    }
   ],
   "source": [
    "df.head(3)"
   ]
  },
  {
   "cell_type": "code",
   "execution_count": 42,
   "metadata": {},
   "outputs": [
    {
     "data": {
      "text/plain": [
       "(67,)"
      ]
     },
     "execution_count": 42,
     "metadata": {},
     "output_type": "execute_result"
    }
   ],
   "source": [
    "reviews = df[df['product_id'] == 25423416810]['append_content'].dropna(axis=0)\n",
    "# reviews = df[df['product_id'] == 38373582263]['content'].dropna(axis=0)\n",
    "# reviews = df['append_content'].dropna(axis=0)\n",
    "reviews.shape"
   ]
  },
  {
   "cell_type": "code",
   "execution_count": 43,
   "metadata": {},
   "outputs": [
    {
     "data": {
      "text/html": [
       "<div>\n",
       "<style>\n",
       "    .dataframe thead tr:only-child th {\n",
       "        text-align: right;\n",
       "    }\n",
       "\n",
       "    .dataframe thead th {\n",
       "        text-align: left;\n",
       "    }\n",
       "\n",
       "    .dataframe tbody tr th {\n",
       "        vertical-align: top;\n",
       "    }\n",
       "</style>\n",
       "<table border=\"1\" class=\"dataframe\">\n",
       "  <thead>\n",
       "    <tr style=\"text-align: right;\">\n",
       "      <th></th>\n",
       "      <th>word</th>\n",
       "      <th>rank</th>\n",
       "    </tr>\n",
       "  </thead>\n",
       "  <tbody>\n",
       "    <tr>\n",
       "      <th>0</th>\n",
       "      <td>鼠标</td>\n",
       "      <td>0.608994</td>\n",
       "    </tr>\n",
       "    <tr>\n",
       "      <th>1</th>\n",
       "      <td>不错</td>\n",
       "      <td>0.377686</td>\n",
       "    </tr>\n",
       "    <tr>\n",
       "      <th>2</th>\n",
       "      <td>滑鼠</td>\n",
       "      <td>0.261046</td>\n",
       "    </tr>\n",
       "    <tr>\n",
       "      <th>3</th>\n",
       "      <td>卖家</td>\n",
       "      <td>0.256945</td>\n",
       "    </tr>\n",
       "    <tr>\n",
       "      <th>4</th>\n",
       "      <td>滚轮</td>\n",
       "      <td>0.242187</td>\n",
       "    </tr>\n",
       "    <tr>\n",
       "      <th>5</th>\n",
       "      <td>左键</td>\n",
       "      <td>0.168377</td>\n",
       "    </tr>\n",
       "    <tr>\n",
       "      <th>6</th>\n",
       "      <td>客服</td>\n",
       "      <td>0.162809</td>\n",
       "    </tr>\n",
       "    <tr>\n",
       "      <th>7</th>\n",
       "      <td>垃圾</td>\n",
       "      <td>0.150045</td>\n",
       "    </tr>\n",
       "    <tr>\n",
       "      <th>8</th>\n",
       "      <td>电池</td>\n",
       "      <td>0.141199</td>\n",
       "    </tr>\n",
       "    <tr>\n",
       "      <th>9</th>\n",
       "      <td>质量</td>\n",
       "      <td>0.136034</td>\n",
       "    </tr>\n",
       "    <tr>\n",
       "      <th>10</th>\n",
       "      <td>物流</td>\n",
       "      <td>0.133702</td>\n",
       "    </tr>\n",
       "    <tr>\n",
       "      <th>11</th>\n",
       "      <td>结果</td>\n",
       "      <td>0.116094</td>\n",
       "    </tr>\n",
       "    <tr>\n",
       "      <th>12</th>\n",
       "      <td>二手货</td>\n",
       "      <td>0.113699</td>\n",
       "    </tr>\n",
       "    <tr>\n",
       "      <th>13</th>\n",
       "      <td>买家</td>\n",
       "      <td>0.113318</td>\n",
       "    </tr>\n",
       "    <tr>\n",
       "      <th>14</th>\n",
       "      <td>原裝</td>\n",
       "      <td>0.112251</td>\n",
       "    </tr>\n",
       "    <tr>\n",
       "      <th>15</th>\n",
       "      <td>軟體</td>\n",
       "      <td>0.112251</td>\n",
       "    </tr>\n",
       "    <tr>\n",
       "      <th>16</th>\n",
       "      <td>正品</td>\n",
       "      <td>0.104489</td>\n",
       "    </tr>\n",
       "    <tr>\n",
       "      <th>17</th>\n",
       "      <td>发货</td>\n",
       "      <td>0.095654</td>\n",
       "    </tr>\n",
       "    <tr>\n",
       "      <th>18</th>\n",
       "      <td>售后</td>\n",
       "      <td>0.090766</td>\n",
       "    </tr>\n",
       "    <tr>\n",
       "      <th>19</th>\n",
       "      <td>手感</td>\n",
       "      <td>0.087188</td>\n",
       "    </tr>\n",
       "  </tbody>\n",
       "</table>\n",
       "</div>"
      ],
      "text/plain": [
       "   word      rank\n",
       "0    鼠标  0.608994\n",
       "1    不错  0.377686\n",
       "2    滑鼠  0.261046\n",
       "3    卖家  0.256945\n",
       "4    滚轮  0.242187\n",
       "5    左键  0.168377\n",
       "6    客服  0.162809\n",
       "7    垃圾  0.150045\n",
       "8    电池  0.141199\n",
       "9    质量  0.136034\n",
       "10   物流  0.133702\n",
       "11   结果  0.116094\n",
       "12  二手货  0.113699\n",
       "13   买家  0.113318\n",
       "14   原裝  0.112251\n",
       "15   軟體  0.112251\n",
       "16   正品  0.104489\n",
       "17   发货  0.095654\n",
       "18   售后  0.090766\n",
       "19   手感  0.087188"
      ]
     },
     "execution_count": 43,
     "metadata": {},
     "output_type": "execute_result"
    }
   ],
   "source": [
    "import jieba.analyse\n",
    "jieba.analyse.set_stop_words('C:/Users/Robin/Google Drive/Code/Project/TextMining/stoplist.txt')\n",
    "jieba_text = reviews.tolist()\n",
    "tags = jieba.analyse.extract_tags(str(jieba_text), topK=20, withWeight=True, allowPOS=('a,n'))\n",
    "word_rank = pd.DataFrame(tags,columns=['word','rank'])\n",
    "word_rank"
   ]
  },
  {
   "cell_type": "code",
   "execution_count": 44,
   "metadata": {},
   "outputs": [
    {
     "data": {
      "text/plain": [
       "['卖家也不给退货',\n",
       " '不知道是因为太滑了还是不灵敏',\n",
       " '贪便宜在这家买没好货',\n",
       " '就是不好用',\n",
       " '不要买这家也更不买这款',\n",
       " '建议都不要买',\n",
       " '质量很好',\n",
       " '但个人感觉不像真货：滚轮滚起来太轻',\n",
       " '卖家态度也很差',\n",
       " '很好用',\n",
       " '很好用',\n",
       " '很好',\n",
       " '很好',\n",
       " '不知道是太灵敏了还是跳帧',\n",
       " '鼠标好用']"
      ]
     },
     "execution_count": 44,
     "metadata": {},
     "output_type": "execute_result"
    }
   ],
   "source": [
    "from snownlp import SnowNLP\n",
    "snow_reviews = ''\n",
    "for review_temp in reviews:\n",
    "    snow_reviews = snow_reviews + '。' + str(review_temp)\n",
    "s = SnowNLP(snow_reviews)\n",
    "s.summary(15)"
   ]
  },
  {
   "cell_type": "code",
   "execution_count": 7,
   "metadata": {
    "collapsed": true
   },
   "outputs": [],
   "source": [
    "from pandas import Series, DataFrame\n",
    "review_sentiments = []\n",
    "for review in reviews:\n",
    "    try:\n",
    "        s = SnowNLP(str(review))\n",
    "        review_sentiment =s.sentiments\n",
    "        review_sentiments.append(review_sentiment)\n",
    "    except:\n",
    "        review_sentiments.append('NaN')\n",
    "review_obj = DataFrame({'review':reviews,\n",
    "                        'sentiment':review_sentiments})"
   ]
  },
  {
   "cell_type": "code",
   "execution_count": 10,
   "metadata": {},
   "outputs": [
    {
     "name": "stdout",
     "output_type": "stream",
     "text": [
      "                                                   review     sentiment\n",
      "110785  <b></b>差<b></b>评<b></b>！<b></b>差<b></b>评<b></b...  0.000000e+00\n",
      "117427  <b></b>便<b></b>宜<b></b>没<b></b>好<b></b>货<b></b...  0.000000e+00\n",
      "106144  键盘买回来第一次用挺正常，第二次用就坏了！灯都不亮了！驱动神马的也装了，就是检测不到键盘！客...  0.000000e+00\n",
      "110494  我收到东西 掌托 是坏的 跟客服说 客服根本就不理我 一直弄了 两天 我收货当天就给客服发了...  0.000000e+00\n",
      "123683  <b></b>收<b></b>到<b></b>键<b></b>盘<b></b>后<b></b...  0.000000e+00\n",
      "106790  买的东西也不便宜了 怎么那么吃 对待买家呢 买的时候痛快 收到之后售后的支持 真是太差了 我...  2.220446e-16\n",
      "120065  <b></b>买<b></b>了<b></b>手<b></b>感<b></b>不<b></b...  1.243450e-14\n",
      "106786  客服态度非常非常的差，买重了东西，分两个包裹寄给我的，我把一个包裹里所有的东西都寄回去了，跟...  8.748557e-14\n",
      "116389  <b></b>首<b></b>先<b></b>，<b></b>我<b></b>承<b></b...  2.582379e-13\n",
      "110059  买回来打开掌托就是坏的，联系客服就说没收到快递时候验货，还外观不保，我就想问一个键盘除了外观...  3.188561e-13\n"
     ]
    }
   ],
   "source": [
    "print (review_obj.sort_values('sentiment',axis=0)[0:10])"
   ]
  },
  {
   "cell_type": "code",
   "execution_count": 9,
   "metadata": {},
   "outputs": [
    {
     "name": "stdout",
     "output_type": "stream",
     "text": [
      "快递超给力啊，13号下的订单，14号就送到了，键盘什么都很喜欢，服务也超赞，就是设置对于我这样的小白有点儿麻烦，总之给店家点个赞\n",
      "东西收到了，物流超级快，头天下单今天就能到！键盘也不错，很炫，毕竟钱在这！第一次买这么贵的键盘，开始还有点犹豫，后来还是咬牙买了。这里不得不说客服，那是真心不错，发货后两次因个人原因麻烦客服，都帮我处理了，大赞一个！唯一美中不足的就是我没有要鼠标，现在除了后悔还是后悔?要是还能按这个优惠价给我发个鼠标就完美了！\n",
      "键盘超级棒，5星不用说，就是一键宏?设置有些麻烦了\n",
      "本人是不怎么用键盘的，所以机械键盘与否给我的感觉真的不是很明显，不过舍友拿来玩飞车说比普通键盘要更好用，键盘很有分量，开了背光灯后很好看，不过只能调节模式而不能调节亮度强弱，这点有点小败笔，因为灯光太亮了会分散你的注意力，但总体好评吧。慢慢适应，就不那么麻烦退货了。\n",
      "小键盘的0键卡槽断裂，快递的锅，退换货太麻烦只能将就了\n",
      "键盘超好用，但是，第一次购买这种键盘的人，那几排按键，会对你造成不小的麻烦，必须要熟悉，而且，键位和原来的键盘会有不小的间距差别。比如原来我爱数字一号键。可以按到，现在我按的可能就是2号！打字的声音是非常好的，比那些机械键盘的声音，要更柔和。不屑那种机械键盘按下去霹雳拍啦的，这种有那种薄膜键盘的感觉，但比薄膜键盘的声音更好。\n",
      "买了了自己下载驱动，调试也是自己弄，很麻烦，但是习惯好评\n",
      "这个键盘手感比cherry轴舒服 打字顺手 游戏不会累 据说按键寿命是7000w次 左边的G热键感觉不是很实用 最起码对于我 我是玩坦克的 偶尔手会AFK 摸回去的时候总是把热键当做最左边的按键这样就很尴尬了 这款键盘我最喜欢的两点设计就是音量旋钮 还有手机支架 音量旋钮拨动起来手感很顺滑 而且灵敏 手机支架就厉害了 虽然是一个很小的结构 但是玩游戏的时候来微信什么的可以很快看到 又不耽误事儿 不过要特别提醒看官一下 桌面小用笔记本的慎重选择 为什么呢 因为手托是键盘主体加盖板两部分设计 如果盖板悬在桌子边上 很容易一抬手就把盖板碰翻掉 而罗技的工学设计盖板下部居然只用一个小塑料一体的卡扣锁住 碰开一两次卡扣就会断！！！ 为什么这么肯定？ 因为我的键盘刚拆箱的时候它就已经是断的！由于这边快递麻烦 就没有过多纠结 不过这个盖板可是真心没单独卖的 真是要吐槽黑龙江亚布力镇的顺丰 除了顺丰的牌子 其余都跟别的快递一个样 工作服不穿也就算了 态度还特别恶劣 还什么&ldquo;就不给你拆箱，接受不了就退&rdquo; 万幸这种员工不是从事ZF的服务工作 顺丰情怀给两星\n",
      "麻烦 8 1462 0.005471956224350205\n"
     ]
    }
   ],
   "source": [
    "rev_len = len(reviews)\n",
    "n1 = 0\n",
    "for review_temp in reviews:\n",
    "    token1  = '麻烦'\n",
    "    try:\n",
    "        if token1 in review_temp:\n",
    "            print (review_temp)\n",
    "            n1 += 1\n",
    "    except:\n",
    "        pass\n",
    "\n",
    "print (token1,n1,rev_len,n1/rev_len)\n"
   ]
  },
  {
   "cell_type": "code",
   "execution_count": 20,
   "metadata": {},
   "outputs": [
    {
     "name": "stdout",
     "output_type": "stream",
     "text": [
      "     n1        pro_id                                           pro_name  \\\n",
      "331   1  551063954708  264    送礼顺丰 罗技G Pro 有线RGB炫彩背光87键专业电竞游戏机械键盘\n",
      "Nam...   \n",
      "377   5   26037980640  494    罗技G430游戏耳机耳麦克风笔记本台式机头戴式7.1cf守望先锋耳麦\n",
      "Name...   \n",
      "140   3  536254786111  112    顺丰罗技G610茶轴/青轴/红轴机械键盘带背光键盘无冲游戏竞技键盘\n",
      "Name:...   \n",
      "484   1  551482279831  291    顺丰罗技G413有线背光宏编程104键守望先锋/LOL电竞游戏机械键盘\n",
      "Nam...   \n",
      "23    4  540780202055  550    Logitech/罗技 G231游戏耳机头戴式有线电竞台式电脑通用耳机带麦\n",
      "N...   \n",
      "260   2   45188875257  97    包邮送桌垫 Logtiech/罗技 MK520无线键鼠套装笔记本键盘鼠标优联\n",
      "N...   \n",
      "135   2  527943993896  429    顺丰送礼罗技G402有线游戏鼠标 发光魔兽电竞机械守望先锋LOL CF\n",
      "Nam...   \n",
      "55    2  527937118202  445    顺丰罗技G910炫彩有线游戏机械键盘G402/g502鼠标LOL键鼠套装G63...   \n",
      "183   1  543127751427  247    包邮罗技G213炫彩游戏有线薄膜键盘竞技有线机械鼠标套装手感编程\n",
      "Name: ...   \n",
      "313   2  531317138626  462    顺丰罗技G900 RGB炫光无线鼠标有线电竞游戏LOL台式电脑无延迟\n",
      "Name...   \n",
      "48    3  542686888117  150    顺丰 罗技G102 游戏鼠标RGB炫光 LOL守望先锋CF 宏编程 有线鼠标\n",
      "...   \n",
      "32    1  524640444513  263    现货顺丰 Logitech/罗技 G633 7.1环绕声PC/PS4带麦克风游...   \n",
      "129   1  539913372155  327    Logitech/罗技G403游戏鼠标有线/无线守望先锋竞技RGB灯光鼠标\n",
      "N...   \n",
      "162   1  537872132769  468    送礼 罗技G910+g502+G900游戏键鼠套装rgb机械键盘鼠标G633耳...   \n",
      "408   1  523274202715  118    包邮送大礼 罗技MX MASTER无线蓝牙鼠标商务办公优联双模大师鼠标\n",
      "Nam...   \n",
      "\n",
      "     rev_len    token1  \n",
      "331        2  0.500000  \n",
      "377       64  0.078125  \n",
      "140       39  0.076923  \n",
      "484       14  0.071429  \n",
      "23        57  0.070175  \n",
      "260       29  0.068966  \n",
      "135       30  0.066667  \n",
      "55        35  0.057143  \n",
      "183       18  0.055556  \n",
      "313       39  0.051282  \n",
      "48        59  0.050847  \n",
      "32        20  0.050000  \n",
      "129       20  0.050000  \n",
      "162       23  0.043478  \n",
      "408       23  0.043478  \n"
     ]
    }
   ],
   "source": [
    "product_id = list(set(df.product_id))\n",
    "\n",
    "n1_list = []\n",
    "n1_rate_list = []\n",
    "len_list = []\n",
    "pro_name_list = []\n",
    "for pro_id in product_id:\n",
    "    pro_reviews = df[df['product_id'] == pro_id]['content'].dropna(axis=0)\n",
    "    rev_len = len(pro_reviews)\n",
    "    n1 = 0\n",
    "    for review_temp in pro_reviews:\n",
    "        token1  = '男朋友'\n",
    "        token2 = '老公'\n",
    "        try:\n",
    "            if token1 in review_temp:\n",
    "                n1 += 1\n",
    "            elif token2 in review_temp:\n",
    "                n1 += 1\n",
    "        except:\n",
    "            pass\n",
    "    pro_name = df2[df2['product_id'] == pro_id]['name']\n",
    "    n1_rate = n1/rev_len\n",
    "    n1_list.append(n1)\n",
    "    n1_rate_list.append(n1_rate)\n",
    "    len_list.append(rev_len)\n",
    "    pro_name_list.append(pro_name)\n",
    "pro_obj = DataFrame({'pro_id':product_id,\n",
    "            'token1':n1_rate_list,\n",
    "            'n1':n1_list,\n",
    "            'rev_len':len_list,\n",
    "            'pro_name':pro_name_list})\n",
    "pprint.pprint (pro_obj.sort_values('token1',axis=0, ascending=False)[0:15])"
   ]
  },
  {
   "cell_type": "code",
   "execution_count": 9,
   "metadata": {},
   "outputs": [],
   "source": [
    "all_reviews = df['content'].dropna(axis=0)\n"
   ]
  },
  {
   "cell_type": "code",
   "execution_count": null,
   "metadata": {
    "collapsed": true
   },
   "outputs": [],
   "source": []
  },
  {
   "cell_type": "code",
   "execution_count": null,
   "metadata": {
    "collapsed": true
   },
   "outputs": [],
   "source": []
  },
  {
   "cell_type": "code",
   "execution_count": null,
   "metadata": {
    "collapsed": true
   },
   "outputs": [],
   "source": []
  },
  {
   "cell_type": "code",
   "execution_count": null,
   "metadata": {
    "collapsed": true
   },
   "outputs": [],
   "source": []
  },
  {
   "cell_type": "code",
   "execution_count": null,
   "metadata": {
    "collapsed": true
   },
   "outputs": [],
   "source": []
  },
  {
   "cell_type": "code",
   "execution_count": null,
   "metadata": {
    "collapsed": true
   },
   "outputs": [],
   "source": []
  }
 ],
 "metadata": {
  "kernelspec": {
   "display_name": "Python 3",
   "language": "python",
   "name": "python3"
  },
  "language_info": {
   "codemirror_mode": {
    "name": "ipython",
    "version": 3
   },
   "file_extension": ".py",
   "mimetype": "text/x-python",
   "name": "python",
   "nbconvert_exporter": "python",
   "pygments_lexer": "ipython3",
   "version": "3.6.1"
  }
 },
 "nbformat": 4,
 "nbformat_minor": 2
}
