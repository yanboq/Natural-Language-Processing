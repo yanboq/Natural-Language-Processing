{
 "cells": [
  {
   "cell_type": "code",
   "execution_count": 35,
   "metadata": {},
   "outputs": [
    {
     "name": "stdout",
     "output_type": "stream",
     "text": [
      "b'{\"error_msg\":\"No permission to access data\",\"error_code\":6}'\n"
     ]
    }
   ],
   "source": [
    "# coding:utf-8\n",
    "import urllib, sys\n",
    "import ssl\n",
    "import urllib.request\n",
    "\n",
    "url = 'https://aip.baidubce.com/rpc/2.0/nlp/v1/wordpos?access_token=24.8cf4ce094a9c5d5a1096b59db6a4d547.2592000.1502988709.282335-9900874'\n",
    "bodys = {}\n",
    "bodys[''] = \"{\\\"query\\\":\\\"还不错，手感还可以。键盘略小，便携牺牲了一定厚度，导致键程短，。可配对三个设备，切换方便\\\"}\".encode('utf-8')\n",
    "post_data = bodys['']\n",
    "request = urllib.request.Request(url, post_data)\n",
    "request.add_header('Content-Type', 'application/json')\n",
    "response = urllib.request.urlopen(request)\n",
    "content = response.read()\n",
    "if (content):\n",
    "    print(content)"
   ]
  },
  {
   "cell_type": "code",
   "execution_count": null,
   "metadata": {},
   "outputs": [],
   "source": []
  },
  {
   "cell_type": "code",
   "execution_count": 34,
   "metadata": {},
   "outputs": [
    {
     "name": "stdout",
     "output_type": "stream",
     "text": [
      "{\"access_token\":\"24.8cf4ce094a9c5d5a1096b59db6a4d547.2592000.1502988709.282335-9900874\",\"session_key\":\"9mzdA8kTCNn5sYrrMKkXi1tik9j44BVVh2R3RgBx9+xV+TtZXc6ltoaMbA5xf2CMqSYzNUm1esMucneIqifO5ypX7MUW\",\"scope\":\"public nlp_simnet nlp_wordemb nlp_comtag nlp_dnnlm_cn brain_nlp_lexer brain_all_scope brain_nlp_comment_tag brain_nlp_dnnlm_cn brain_nlp_word_emb_vec brain_nlp_word_emb_sim brain_nlp_sentiment_classify brain_nlp_simnet brain_nlp_depparser wise_adapt lebo_resource_base lightservice_public hetu_basic lightcms_map_poi kaidian_kaidian wangrantest_test wangrantest_test1 bnstest_test1 bnstest_test2 vis-classify_flower\",\"refresh_token\":\"25.8b8b9bda9e9c52ef9ac8cc46e1ecd5d4.315360000.1815756709.282335-9900874\",\"session_secret\":\"732644dd584c115726062126ceae1071\",\"expires_in\":2592000}\n",
      "\n"
     ]
    }
   ],
   "source": [
    "#get baidu token\n",
    "import requests\n",
    "url = 'https://aip.baidubce.com/oauth/2.0/token?grant_type=client_credentials&client_id=zKWzzeE5nGn83aAFkhs07E3P&client_secret=PL1sXvd48vQuVa5SSdW4VMbWGydfChjy'\n",
    "headers = {'Content-Type':'application/json;charset=utf-8'}\n",
    "rep= requests.post(url,headers=headers)\n",
    "print (rep.text)\n"
   ]
  },
  {
   "cell_type": "code",
   "execution_count": 71,
   "metadata": {},
   "outputs": [
    {
     "ename": "TypeError",
     "evalue": "not a valid non-string sequence or mapping object",
     "output_type": "error",
     "traceback": [
      "\u001b[1;31m---------------------------------------------------------------------------\u001b[0m",
      "\u001b[1;31mTypeError\u001b[0m                                 Traceback (most recent call last)",
      "\u001b[1;32mC:\\ProgramData\\Anaconda3\\lib\\urllib\\parse.py\u001b[0m in \u001b[0;36murlencode\u001b[1;34m(query, doseq, safe, encoding, errors, quote_via)\u001b[0m\n\u001b[0;32m    841\u001b[0m             \u001b[1;32mif\u001b[0m \u001b[0mlen\u001b[0m\u001b[1;33m(\u001b[0m\u001b[0mquery\u001b[0m\u001b[1;33m)\u001b[0m \u001b[1;32mand\u001b[0m \u001b[1;32mnot\u001b[0m \u001b[0misinstance\u001b[0m\u001b[1;33m(\u001b[0m\u001b[0mquery\u001b[0m\u001b[1;33m[\u001b[0m\u001b[1;36m0\u001b[0m\u001b[1;33m]\u001b[0m\u001b[1;33m,\u001b[0m \u001b[0mtuple\u001b[0m\u001b[1;33m)\u001b[0m\u001b[1;33m:\u001b[0m\u001b[1;33m\u001b[0m\u001b[0m\n\u001b[1;32m--> 842\u001b[1;33m                 \u001b[1;32mraise\u001b[0m \u001b[0mTypeError\u001b[0m\u001b[1;33m\u001b[0m\u001b[0m\n\u001b[0m\u001b[0;32m    843\u001b[0m             \u001b[1;31m# Zero-length sequences of all types will get here and succeed,\u001b[0m\u001b[1;33m\u001b[0m\u001b[1;33m\u001b[0m\u001b[0m\n",
      "\u001b[1;31mTypeError\u001b[0m: ",
      "\nDuring handling of the above exception, another exception occurred:\n",
      "\u001b[1;31mTypeError\u001b[0m                                 Traceback (most recent call last)",
      "\u001b[1;32m<ipython-input-71-956c703a41da>\u001b[0m in \u001b[0;36m<module>\u001b[1;34m()\u001b[0m\n\u001b[0;32m     13\u001b[0m \u001b[1;31m# }\u001b[0m\u001b[1;33m\u001b[0m\u001b[1;33m\u001b[0m\u001b[0m\n\u001b[0;32m     14\u001b[0m \u001b[1;33m\u001b[0m\u001b[0m\n\u001b[1;32m---> 15\u001b[1;33m \u001b[0mdata\u001b[0m \u001b[1;33m=\u001b[0m \u001b[0murllib\u001b[0m\u001b[1;33m.\u001b[0m\u001b[0mparse\u001b[0m\u001b[1;33m.\u001b[0m\u001b[0murlencode\u001b[0m\u001b[1;33m(\u001b[0m\u001b[0mvalues\u001b[0m\u001b[1;33m)\u001b[0m\u001b[1;33m\u001b[0m\u001b[0m\n\u001b[0m\u001b[0;32m     16\u001b[0m \u001b[0mdata\u001b[0m \u001b[1;33m=\u001b[0m \u001b[0mdata\u001b[0m\u001b[1;33m.\u001b[0m\u001b[0mencode\u001b[0m\u001b[1;33m(\u001b[0m\u001b[1;34m'gbk'\u001b[0m\u001b[1;33m)\u001b[0m \u001b[1;31m# data should be bytes\u001b[0m\u001b[1;33m\u001b[0m\u001b[0m\n\u001b[0;32m     17\u001b[0m \u001b[0mreq\u001b[0m \u001b[1;33m=\u001b[0m \u001b[0murllib\u001b[0m\u001b[1;33m.\u001b[0m\u001b[0mrequest\u001b[0m\u001b[1;33m.\u001b[0m\u001b[0mRequest\u001b[0m\u001b[1;33m(\u001b[0m\u001b[0murl\u001b[0m\u001b[1;33m,\u001b[0m \u001b[0mdata\u001b[0m\u001b[1;33m)\u001b[0m\u001b[1;33m\u001b[0m\u001b[0m\n",
      "\u001b[1;32mC:\\ProgramData\\Anaconda3\\lib\\urllib\\parse.py\u001b[0m in \u001b[0;36murlencode\u001b[1;34m(query, doseq, safe, encoding, errors, quote_via)\u001b[0m\n\u001b[0;32m    848\u001b[0m             \u001b[0mty\u001b[0m\u001b[1;33m,\u001b[0m \u001b[0mva\u001b[0m\u001b[1;33m,\u001b[0m \u001b[0mtb\u001b[0m \u001b[1;33m=\u001b[0m \u001b[0msys\u001b[0m\u001b[1;33m.\u001b[0m\u001b[0mexc_info\u001b[0m\u001b[1;33m(\u001b[0m\u001b[1;33m)\u001b[0m\u001b[1;33m\u001b[0m\u001b[0m\n\u001b[0;32m    849\u001b[0m             raise TypeError(\"not a valid non-string sequence \"\n\u001b[1;32m--> 850\u001b[1;33m                             \"or mapping object\").with_traceback(tb)\n\u001b[0m\u001b[0;32m    851\u001b[0m \u001b[1;33m\u001b[0m\u001b[0m\n\u001b[0;32m    852\u001b[0m     \u001b[0ml\u001b[0m \u001b[1;33m=\u001b[0m \u001b[1;33m[\u001b[0m\u001b[1;33m]\u001b[0m\u001b[1;33m\u001b[0m\u001b[0m\n",
      "\u001b[1;32mC:\\ProgramData\\Anaconda3\\lib\\urllib\\parse.py\u001b[0m in \u001b[0;36murlencode\u001b[1;34m(query, doseq, safe, encoding, errors, quote_via)\u001b[0m\n\u001b[0;32m    840\u001b[0m             \u001b[1;31m# non-empty strings will fail this\u001b[0m\u001b[1;33m\u001b[0m\u001b[1;33m\u001b[0m\u001b[0m\n\u001b[0;32m    841\u001b[0m             \u001b[1;32mif\u001b[0m \u001b[0mlen\u001b[0m\u001b[1;33m(\u001b[0m\u001b[0mquery\u001b[0m\u001b[1;33m)\u001b[0m \u001b[1;32mand\u001b[0m \u001b[1;32mnot\u001b[0m \u001b[0misinstance\u001b[0m\u001b[1;33m(\u001b[0m\u001b[0mquery\u001b[0m\u001b[1;33m[\u001b[0m\u001b[1;36m0\u001b[0m\u001b[1;33m]\u001b[0m\u001b[1;33m,\u001b[0m \u001b[0mtuple\u001b[0m\u001b[1;33m)\u001b[0m\u001b[1;33m:\u001b[0m\u001b[1;33m\u001b[0m\u001b[0m\n\u001b[1;32m--> 842\u001b[1;33m                 \u001b[1;32mraise\u001b[0m \u001b[0mTypeError\u001b[0m\u001b[1;33m\u001b[0m\u001b[0m\n\u001b[0m\u001b[0;32m    843\u001b[0m             \u001b[1;31m# Zero-length sequences of all types will get here and succeed,\u001b[0m\u001b[1;33m\u001b[0m\u001b[1;33m\u001b[0m\u001b[0m\n\u001b[0;32m    844\u001b[0m             \u001b[1;31m# but that's a minor nit.  Since the original implementation\u001b[0m\u001b[1;33m\u001b[0m\u001b[1;33m\u001b[0m\u001b[0m\n",
      "\u001b[1;31mTypeError\u001b[0m: not a valid non-string sequence or mapping object"
     ]
    }
   ],
   "source": [
    "import urllib, sys\n",
    "import ssl\n",
    "import urllib.request\n",
    "import urllib.parse\n",
    "\n",
    "access_token = '24.8cf4ce094a9c5d5a1096b59db6a4d547.2592000.1502988709.282335-9900874'\n",
    "url = 'https://aip.baidubce.com/rpc/2.0/nlp/v2/comment_tag?access_token=24.8cf4ce094a9c5d5a1096b59db6a4d547.2592000.1502988709.282335-9900874'\n",
    "bodys = {}\n",
    "values = \"{\\\"text\\\":\\\"还不错，手感还可以。键盘略小，便携牺牲了一定厚度，导致键程短，。可配对三个设备，切换方便\\\",\\\"type\\\":\\\"13\\\"}\"\n",
    "# values = {\n",
    "#    \"text\":\"三星电脑电池不给力\",\n",
    "#     \"type\":13\n",
    "# }\n",
    "\n",
    "data = urllib.parse.urlencode(values)\n",
    "data = data.encode('gbk') # data should be bytes\n",
    "req = urllib.request.Request(url, data)\n",
    "resp = urllib.request.urlopen(req)\n",
    "respData = resp.read()\n",
    "\n",
    "print (respData)\n",
    "\n",
    "# request = urllib.request.Request(url, post_data)\n",
    "# request.add_header('Content-Type', 'application/json')\n",
    "# response = urllib.request.urlopen(request)\n",
    "# content = response.read()\n",
    "# if (content):\n",
    "#     print(content)"
   ]
  },
  {
   "cell_type": "code",
   "execution_count": 56,
   "metadata": {},
   "outputs": [
    {
     "name": "stdout",
     "output_type": "stream",
     "text": [
      "{\"log_id\": 961938846, \"error_code\": 282132, \"error_msg\": \"invalid param\"}\n"
     ]
    }
   ],
   "source": [
    "url = 'https://aip.baidubce.com/rpc/2.0/nlp/v2/comment_tag?access_token=24.8cf4ce094a9c5d5a1096b59db6a4d547.2592000.1502988709.282335-9900874'\n",
    "headers = {'Content-Type':'application/json'}\n",
    "data = \"{\\\"text\\\":\\\"还不错，手感还可以。键盘略小，便携牺牲了一定厚度，导致键程短，。可配对三个设备，切换方便\\\",\\\"type\\\":\\\"13\\\"}\".encode('utf-8')\n",
    "body = {\n",
    "    \"text\":\"三星电脑电池不给力\"\n",
    "}\n",
    "rep= requests.post(url, data=body)\n",
    "print (rep.text)"
   ]
  },
  {
   "cell_type": "code",
   "execution_count": null,
   "metadata": {
    "collapsed": true
   },
   "outputs": [],
   "source": []
  }
 ],
 "metadata": {
  "kernelspec": {
   "display_name": "Python 3",
   "language": "python",
   "name": "python3"
  },
  "language_info": {
   "codemirror_mode": {
    "name": "ipython",
    "version": 3
   },
   "file_extension": ".py",
   "mimetype": "text/x-python",
   "name": "python",
   "nbconvert_exporter": "python",
   "pygments_lexer": "ipython3",
   "version": "3.6.1"
  }
 },
 "nbformat": 4,
 "nbformat_minor": 2
}
